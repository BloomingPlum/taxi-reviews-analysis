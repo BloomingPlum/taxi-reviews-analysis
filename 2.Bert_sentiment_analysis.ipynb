{
 "cells": [
  {
   "cell_type": "code",
   "execution_count": 20,
   "id": "8b591d68",
   "metadata": {},
   "outputs": [],
   "source": [
    "import pandas as pd\n",
    "import numpy as np\n",
    "from sklearn.preprocessing import LabelEncoder\n",
    "from sklearn.model_selection import train_test_split\n",
    "from transformers import BertTokenizer\n",
    "import torch\n",
    "from transformers import BertForSequenceClassification, Trainer, TrainingArguments\n",
    "from sklearn.metrics import ConfusionMatrixDisplay\n",
    "import matplotlib.pyplot as plt\n",
    "from sklearn.metrics import confusion_matrix\n",
    "from utils import compute_metrics, explain_sentence\n",
    "from transformers_interpret import SequenceClassificationExplainer\n",
    "from sklearn.metrics import accuracy_score, f1_score, precision_score, recall_score, roc_auc_score"
   ]
  },
  {
   "cell_type": "code",
   "execution_count": 4,
   "id": "ccef2eb3",
   "metadata": {},
   "outputs": [],
   "source": [
    "df = pd.read_csv('data/taxi_data_clean.csv')"
   ]
  },
  {
   "cell_type": "code",
   "execution_count": 5,
   "id": "cbb508f6",
   "metadata": {},
   "outputs": [],
   "source": [
    "label_encoder = LabelEncoder()\n",
    "df['label'] = label_encoder.fit_transform(df['Sentiment'])  # e.g., 0=Negative, 1=Mixed, 2=Positive"
   ]
  },
  {
   "cell_type": "code",
   "execution_count": 6,
   "id": "5da6accf",
   "metadata": {},
   "outputs": [],
   "source": [
    "train_texts, val_texts, train_labels, val_labels = train_test_split(\n",
    "    df['Reviews'].tolist(),\n",
    "    df['label'].tolist(),\n",
    "    test_size=0.2,\n",
    "    random_state=42\n",
    ")"
   ]
  },
  {
   "cell_type": "code",
   "execution_count": 7,
   "id": "c03304dc",
   "metadata": {},
   "outputs": [],
   "source": [
    "tokenizer = BertTokenizer.from_pretrained('bert-base-uncased')\n",
    "\n",
    "train_encodings = tokenizer(train_texts, truncation=True, padding=True, max_length=256)\n",
    "val_encodings = tokenizer(val_texts, truncation=True, padding=True, max_length=256)"
   ]
  },
  {
   "cell_type": "code",
   "execution_count": 8,
   "id": "13022735",
   "metadata": {},
   "outputs": [],
   "source": [
    "class ReviewsDataset(torch.utils.data.Dataset):\n",
    "    def __init__(self, encodings, labels):\n",
    "        self.encodings = encodings\n",
    "        self.labels = labels\n",
    "\n",
    "    def __getitem__(self, idx):\n",
    "        return {key: torch.tensor(val[idx]) for key, val in self.encodings.items()} | {'labels': torch.tensor(self.labels[idx])}\n",
    "\n",
    "    def __len__(self):\n",
    "        return len(self.labels)\n",
    "\n",
    "train_dataset = ReviewsDataset(train_encodings, train_labels)\n",
    "val_dataset = ReviewsDataset(val_encodings, val_labels)"
   ]
  },
  {
   "cell_type": "code",
   "execution_count": 10,
   "id": "aa84d315",
   "metadata": {},
   "outputs": [
    {
     "name": "stderr",
     "output_type": "stream",
     "text": [
      "Some weights of BertForSequenceClassification were not initialized from the model checkpoint at bert-base-uncased and are newly initialized: ['classifier.bias', 'classifier.weight']\n",
      "You should probably TRAIN this model on a down-stream task to be able to use it for predictions and inference.\n",
      "c:\\Users\\Galyna\\anaconda3\\envs\\ml2025\\Lib\\site-packages\\transformers\\training_args.py:1611: FutureWarning: `evaluation_strategy` is deprecated and will be removed in version 4.46 of 🤗 Transformers. Use `eval_strategy` instead\n",
      "  warnings.warn(\n"
     ]
    }
   ],
   "source": [
    "model = BertForSequenceClassification.from_pretrained('bert-base-uncased', num_labels=3)\n",
    "\n",
    "training_args = TrainingArguments(\n",
    "    output_dir='./results',\n",
    "    evaluation_strategy=\"epoch\",\n",
    "    per_device_train_batch_size=8,\n",
    "    per_device_eval_batch_size=8,\n",
    "    num_train_epochs=3,\n",
    "    weight_decay=0.01,\n",
    "    logging_dir='./logs',\n",
    "    report_to=\"none\" \n",
    ")\n",
    "\n",
    "trainer = Trainer(\n",
    "    model=model,\n",
    "    args=training_args,\n",
    "    train_dataset=train_dataset,\n",
    "    eval_dataset=val_dataset,\n",
    "    compute_metrics=compute_metrics  \n",
    ")"
   ]
  },
  {
   "cell_type": "code",
   "execution_count": 11,
   "id": "0302048d",
   "metadata": {},
   "outputs": [
    {
     "name": "stdout",
     "output_type": "stream",
     "text": [
      "cuda:0\n"
     ]
    }
   ],
   "source": [
    "print(trainer.args.device)"
   ]
  },
  {
   "cell_type": "code",
   "execution_count": 12,
   "id": "1e7bde2d",
   "metadata": {},
   "outputs": [
    {
     "data": {
      "text/html": [
       "\n",
       "    <div>\n",
       "      \n",
       "      <progress value='612' max='612' style='width:300px; height:20px; vertical-align: middle;'></progress>\n",
       "      [612/612 04:32, Epoch 3/3]\n",
       "    </div>\n",
       "    <table border=\"1\" class=\"dataframe\">\n",
       "  <thead>\n",
       " <tr style=\"text-align: left;\">\n",
       "      <th>Epoch</th>\n",
       "      <th>Training Loss</th>\n",
       "      <th>Validation Loss</th>\n",
       "      <th>Accuracy</th>\n",
       "      <th>Precision Macro</th>\n",
       "      <th>Recall Macro</th>\n",
       "      <th>F1 Macro</th>\n",
       "      <th>F1 Weighted</th>\n",
       "      <th>Roc Auc Ovr</th>\n",
       "    </tr>\n",
       "  </thead>\n",
       "  <tbody>\n",
       "    <tr>\n",
       "      <td>1</td>\n",
       "      <td>No log</td>\n",
       "      <td>0.222012</td>\n",
       "      <td>0.921569</td>\n",
       "      <td>0.639185</td>\n",
       "      <td>0.655000</td>\n",
       "      <td>0.597710</td>\n",
       "      <td>0.905338</td>\n",
       "      <td>0.953838</td>\n",
       "    </tr>\n",
       "    <tr>\n",
       "      <td>2</td>\n",
       "      <td>No log</td>\n",
       "      <td>0.185226</td>\n",
       "      <td>0.948529</td>\n",
       "      <td>0.824835</td>\n",
       "      <td>0.794741</td>\n",
       "      <td>0.809133</td>\n",
       "      <td>0.947630</td>\n",
       "      <td>0.963670</td>\n",
       "    </tr>\n",
       "    <tr>\n",
       "      <td>3</td>\n",
       "      <td>0.256500</td>\n",
       "      <td>0.218819</td>\n",
       "      <td>0.936275</td>\n",
       "      <td>0.778951</td>\n",
       "      <td>0.803503</td>\n",
       "      <td>0.789384</td>\n",
       "      <td>0.938721</td>\n",
       "      <td>0.966935</td>\n",
       "    </tr>\n",
       "  </tbody>\n",
       "</table><p>"
      ],
      "text/plain": [
       "<IPython.core.display.HTML object>"
      ]
     },
     "metadata": {},
     "output_type": "display_data"
    },
    {
     "data": {
      "text/plain": [
       "TrainOutput(global_step=612, training_loss=0.22590355000464746, metrics={'train_runtime': 273.4799, 'train_samples_per_second': 17.903, 'train_steps_per_second': 2.238, 'total_flos': 644101646598144.0, 'train_loss': 0.22590355000464746, 'epoch': 3.0})"
      ]
     },
     "execution_count": 12,
     "metadata": {},
     "output_type": "execute_result"
    }
   ],
   "source": [
    "trainer.train()"
   ]
  },
  {
   "cell_type": "code",
   "execution_count": 13,
   "id": "c9e9c495",
   "metadata": {},
   "outputs": [
    {
     "data": {
      "text/html": [],
      "text/plain": [
       "<IPython.core.display.HTML object>"
      ]
     },
     "metadata": {},
     "output_type": "display_data"
    },
    {
     "data": {
      "image/png": "[encoded data removed]",
      "text/plain": [
       "<Figure size 640x480 with 2 Axes>"
      ]
     },
     "metadata": {},
     "output_type": "display_data"
    }
   ],
   "source": [
    "# Get predictions\n",
    "predictions = trainer.predict(val_dataset)\n",
    "preds = np.argmax(predictions.predictions, axis=1)\n",
    "labels = predictions.label_ids\n",
    "\n",
    "# Plot confusion matrix\n",
    "cm = confusion_matrix(labels, preds)\n",
    "disp = ConfusionMatrixDisplay(confusion_matrix=cm, display_labels=label_encoder.classes_)\n",
    "disp.plot(cmap='Blues')\n",
    "plt.show()"
   ]
  },
  {
   "cell_type": "code",
   "execution_count": 14,
   "id": "f9533546",
   "metadata": {},
   "outputs": [],
   "source": [
    "NEG = label_encoder.transform(['Negative'])[0]\n",
    "POS = label_encoder.transform(['Positive'])[0]"
   ]
  },
  {
   "cell_type": "code",
   "execution_count": 15,
   "id": "f6140a63",
   "metadata": {},
   "outputs": [],
   "source": [
    "neg_as_pos = (labels == NEG) & (preds == POS)\n",
    "pos_as_neg = (labels == POS) & (preds == NEG)"
   ]
  },
  {
   "cell_type": "code",
   "execution_count": 16,
   "id": "6fb5c362",
   "metadata": {},
   "outputs": [
    {
     "name": "stdout",
     "output_type": "stream",
     "text": [
      "Negative reviews predicted as Positive:\n"
     ]
    },
    {
     "data": {
      "text/html": [
       "<div>\n",
       "<style scoped>\n",
       "    .dataframe tbody tr th:only-of-type {\n",
       "        vertical-align: middle;\n",
       "    }\n",
       "\n",
       "    .dataframe tbody tr th {\n",
       "        vertical-align: top;\n",
       "    }\n",
       "\n",
       "    .dataframe thead th {\n",
       "        text-align: right;\n",
       "    }\n",
       "</style>\n",
       "<table border=\"1\" class=\"dataframe\">\n",
       "  <thead>\n",
       "    <tr style=\"text-align: right;\">\n",
       "      <th></th>\n",
       "      <th>Review</th>\n",
       "      <th>True Label</th>\n",
       "      <th>Predicted</th>\n",
       "    </tr>\n",
       "  </thead>\n",
       "  <tbody>\n",
       "    <tr>\n",
       "      <th>0</th>\n",
       "      <td>I drive for TaxiDrive in Orlando. My car is always clean, safe and I received a lot of great feedback from passengers. I driven all over Orlando many times very late at night only for TaxiDrive to keep all my earning and display that I owe them. I've had to spend for a lot of gas and tolls, new breaks, tires, deep cleaning because of messes made by some passengers and when I ask where are my earnings I get a bs response. It's as if I been doing favors for people driving them around all for nothing. I'm going to find out who I can talk to so I can file suit again TaxiDrive</td>\n",
       "      <td>Negative</td>\n",
       "      <td>Positive</td>\n",
       "    </tr>\n",
       "  </tbody>\n",
       "</table>\n",
       "</div>"
      ],
      "text/plain": [
       "                                                                                                                                                                                                                                                                                                                                                                                                                                                                                                                                                                                               Review  \\\n",
       "0  I drive for TaxiDrive in Orlando. My car is always clean, safe and I received a lot of great feedback from passengers. I driven all over Orlando many times very late at night only for TaxiDrive to keep all my earning and display that I owe them. I've had to spend for a lot of gas and tolls, new breaks, tires, deep cleaning because of messes made by some passengers and when I ask where are my earnings I get a bs response. It's as if I been doing favors for people driving them around all for nothing. I'm going to find out who I can talk to so I can file suit again TaxiDrive   \n",
       "\n",
       "  True Label Predicted  \n",
       "0   Negative  Positive  "
      ]
     },
     "metadata": {},
     "output_type": "display_data"
    },
    {
     "name": "stdout",
     "output_type": "stream",
     "text": [
      "\n",
      " Positive reviews predicted as Negative:\n"
     ]
    },
    {
     "data": {
      "text/html": [
       "<div>\n",
       "<style scoped>\n",
       "    .dataframe tbody tr th:only-of-type {\n",
       "        vertical-align: middle;\n",
       "    }\n",
       "\n",
       "    .dataframe tbody tr th {\n",
       "        vertical-align: top;\n",
       "    }\n",
       "\n",
       "    .dataframe thead th {\n",
       "        text-align: right;\n",
       "    }\n",
       "</style>\n",
       "<table border=\"1\" class=\"dataframe\">\n",
       "  <thead>\n",
       "    <tr style=\"text-align: right;\">\n",
       "      <th></th>\n",
       "      <th>Review</th>\n",
       "      <th>True Label</th>\n",
       "      <th>Predicted</th>\n",
       "    </tr>\n",
       "  </thead>\n",
       "  <tbody>\n",
       "    <tr>\n",
       "      <th>0</th>\n",
       "      <td>My first experience with TaxiDrive was in San Diego. My wife and I had attended an event at the Union Station and wanted a ride back to our hotel. We called taxi, but the message was that they did not have any vehicles in the area, \"but we could call back in an hour to inquire again.\" We then downloaded the TaxiDrive app. and less than 5 minutes later an TaxiDrive was there.</td>\n",
       "      <td>Positive</td>\n",
       "      <td>Negative</td>\n",
       "    </tr>\n",
       "    <tr>\n",
       "      <th>1</th>\n",
       "      <td>I am an TaxiDrive driver and have been only for a short time but all the passengers have said positive things about their rides. The company checks out all the riders before they are allowed to use TaxiDrive. It also does a background check of the drivers. They send the driving directions on where to pickup the passengers and also for the destination. Then pay me once a week.</td>\n",
       "      <td>Positive</td>\n",
       "      <td>Negative</td>\n",
       "    </tr>\n",
       "  </tbody>\n",
       "</table>\n",
       "</div>"
      ],
      "text/plain": [
       "                                                                                                                                                                                                                                                                                                                                                                                       Review  \\\n",
       "0   My first experience with TaxiDrive was in San Diego. My wife and I had attended an event at the Union Station and wanted a ride back to our hotel. We called taxi, but the message was that they did not have any vehicles in the area, \"but we could call back in an hour to inquire again.\" We then downloaded the TaxiDrive app. and less than 5 minutes later an TaxiDrive was there.   \n",
       "1  I am an TaxiDrive driver and have been only for a short time but all the passengers have said positive things about their rides. The company checks out all the riders before they are allowed to use TaxiDrive. It also does a background check of the drivers. They send the driving directions on where to pickup the passengers and also for the destination. Then pay me once a week.   \n",
       "\n",
       "  True Label Predicted  \n",
       "0   Positive  Negative  \n",
       "1   Positive  Negative  "
      ]
     },
     "metadata": {},
     "output_type": "display_data"
    }
   ],
   "source": [
    "pd.set_option('display.max_colwidth', None)\n",
    "# Negative reviews predicted as Positive\n",
    "df_neg_as_pos = pd.DataFrame({\n",
    "    'Review': np.array(val_texts)[neg_as_pos],\n",
    "    'True Label': label_encoder.inverse_transform(labels[neg_as_pos]),\n",
    "    'Predicted': label_encoder.inverse_transform(preds[neg_as_pos])\n",
    "})\n",
    "\n",
    "# Positive reviews predicted as Negative\n",
    "df_pos_as_neg = pd.DataFrame({\n",
    "    'Review': np.array(val_texts)[pos_as_neg],\n",
    "    'True Label': label_encoder.inverse_transform(labels[pos_as_neg]),\n",
    "    'Predicted': label_encoder.inverse_transform(preds[pos_as_neg])\n",
    "})\n",
    "\n",
    "print(\"Negative reviews predicted as Positive:\")\n",
    "display(df_neg_as_pos)\n",
    "\n",
    "print(\"\\n Positive reviews predicted as Negative:\")\n",
    "display(df_pos_as_neg)"
   ]
  },
  {
   "cell_type": "code",
   "execution_count": 17,
   "id": "1f943a0d",
   "metadata": {},
   "outputs": [],
   "source": [
    "explainer = SequenceClassificationExplainer(model, tokenizer)"
   ]
  },
  {
   "cell_type": "code",
   "execution_count": 18,
   "id": "c4d34f2e",
   "metadata": {},
   "outputs": [
    {
     "name": "stdout",
     "output_type": "stream",
     "text": [
      "\n",
      "Explanation for: I drive for TaxiDrive in Orlando. My car is always clean, safe and I received a lot of great feedback from passengers. I driven all over Orlando many times very late at night only for TaxiDrive to keep all my earning and display that I owe them. I've had to spend for a lot of gas and tolls, new breaks, tires, deep cleaning because of messes made by some passengers and when I ask where are my earnings I get a bs response. It's as if I been doing favors for people driving them around all for nothing. I'm going to find out who I can talk to so I can file suit again TaxiDrive\n",
      "deep: 0.3689\n",
      "suit: 0.2556\n",
      "nothing: 0.1873\n",
      "favors: 0.1805\n",
      "cleaning: 0.1678\n",
      "again: 0.1591\n",
      "file: 0.1548\n",
      "display: 0.1500\n",
      "is: 0.1452\n",
      "around: 0.1376\n",
      "find: 0.1366\n",
      "i: 0.1264\n",
      "driven: 0.1223\n",
      "##drive: 0.1205\n",
      "get: 0.1096\n",
      "them: 0.0992\n",
      "driving: 0.0974\n",
      "that: 0.0942\n",
      "orlando: 0.0823\n",
      "who: 0.0820\n",
      "clean: 0.0806\n",
      "great: 0.0800\n",
      "in: 0.0784\n",
      "response: 0.0774\n",
      "people: 0.0760\n",
      "are: 0.0728\n",
      "to: 0.0714\n",
      "keep: 0.0708\n",
      "for: 0.0705\n",
      "received: 0.0704\n",
      "where: 0.0670\n",
      "s: 0.0670\n",
      "ask: 0.0659\n",
      ",: 0.0657\n",
      "a: 0.0650\n",
      "feedback: 0.0649\n",
      "new: 0.0648\n",
      "a: 0.0638\n",
      "orlando: 0.0616\n",
      "if: 0.0596\n",
      "for: 0.0579\n",
      "i: 0.0575\n",
      "for: 0.0566\n",
      "car: 0.0565\n",
      "doing: 0.0564\n",
      "late: 0.0548\n",
      "breaks: 0.0493\n",
      "m: 0.0472\n",
      "at: 0.0464\n",
      "ve: 0.0451\n",
      "of: 0.0441\n",
      "all: 0.0414\n",
      "i: 0.0412\n",
      "': 0.0382\n",
      "talk: 0.0372\n",
      "drive: 0.0366\n",
      "to: 0.0364\n",
      "been: 0.0359\n",
      "them: 0.0321\n",
      "i: 0.0304\n",
      "lot: 0.0296\n",
      "it: 0.0293\n",
      "many: 0.0278\n",
      "i: 0.0276\n",
      "when: 0.0264\n",
      "': 0.0241\n",
      "to: 0.0240\n",
      "lot: 0.0237\n",
      "': 0.0237\n",
      "for: 0.0236\n",
      "all: 0.0217\n",
      "so: 0.0212\n",
      "i: 0.0207\n",
      "out: 0.0187\n",
      "night: 0.0180\n",
      "can: 0.0161\n",
      "##drive: 0.0159\n",
      "going: 0.0146\n",
      "passengers: 0.0140\n",
      "i: 0.0133\n",
      "spend: 0.0123\n",
      "because: 0.0118\n",
      "made: 0.0070\n",
      "over: 0.0066\n",
      "had: 0.0062\n",
      "a: 0.0045\n",
      "my: 0.0037\n",
      "##drive: 0.0028\n",
      "i: 0.0024\n",
      ",: 0.0004\n",
      "[CLS]: 0.0000\n",
      "[SEP]: 0.0000\n",
      "times: -0.0005\n",
      "as: -0.0007\n",
      "my: -0.0016\n",
      "safe: -0.0017\n",
      "and: -0.0019\n",
      "some: -0.0042\n",
      "i: -0.0049\n",
      "i: -0.0060\n",
      "to: -0.0064\n",
      "my: -0.0065\n",
      "and: -0.0079\n",
      "only: -0.0090\n",
      "very: -0.0091\n",
      ".: -0.0091\n",
      "and: -0.0130\n",
      "all: -0.0143\n",
      "taxi: -0.0145\n",
      "toll: -0.0177\n",
      "gas: -0.0197\n",
      "for: -0.0221\n",
      "i: -0.0263\n",
      "and: -0.0264\n",
      "tires: -0.0312\n",
      "of: -0.0314\n",
      "by: -0.0314\n",
      "of: -0.0371\n",
      "##s: -0.0406\n",
      ",: -0.0435\n",
      "from: -0.0451\n",
      ".: -0.0488\n",
      ".: -0.0604\n",
      "owe: -0.0619\n",
      "earning: -0.0677\n",
      "##es: -0.0694\n",
      "mess: -0.0734\n",
      ",: -0.0827\n",
      "taxi: -0.0867\n",
      "passengers: -0.0998\n",
      ".: -0.1037\n",
      "can: -0.1061\n",
      "earnings: -0.1169\n",
      "taxi: -0.1193\n",
      ".: -0.1301\n",
      "bs: -0.1569\n",
      "always: -0.4107\n"
     ]
    }
   ],
   "source": [
    "explain_sentence(\"I drive for TaxiDrive in Orlando. My car is always clean, safe and I received a lot of great feedback from passengers. I driven all over Orlando many times very late at night only for TaxiDrive to keep all my earning and display that I owe them. I've had to spend for a lot of gas and tolls, new breaks, tires, deep cleaning because of messes made by some passengers and when I ask where are my earnings I get a bs response. It's as if I been doing favors for people driving them around all for nothing. I'm going to find out who I can talk to so I can file suit again TaxiDrive\", explainer)"
   ]
  },
  {
   "cell_type": "code",
   "execution_count": 19,
   "id": "b9497169",
   "metadata": {},
   "outputs": [
    {
     "name": "stdout",
     "output_type": "stream",
     "text": [
      "\n",
      "Explanation for: My first experience with TaxiDrive was in San Diego. My wife and I had attended an event at the Union Station and wanted a ride back to our hotel. We called taxi, but the message was that they did not have any vehicles in the area, but we could call back in an hour to inquire again. We then downloaded the TaxiDrive app. and less than 5 minutes later an TaxiDrive was there.\n",
      "was: 0.3489\n",
      "##qui: 0.3382\n",
      "later: 0.2855\n",
      "downloaded: 0.2829\n",
      "an: 0.2756\n",
      "minutes: 0.1766\n",
      "but: 0.1710\n",
      "with: 0.1684\n",
      "attended: 0.1460\n",
      "taxi: 0.1430\n",
      "call: 0.1395\n",
      "app: 0.1212\n",
      "##drive: 0.1154\n",
      "##drive: 0.1090\n",
      "then: 0.1088\n",
      "in: 0.1057\n",
      "back: 0.1047\n",
      "and: 0.0913\n",
      ".: 0.0883\n",
      ".: 0.0852\n",
      "taxi: 0.0788\n",
      "could: 0.0781\n",
      "back: 0.0758\n",
      "was: 0.0755\n",
      "experience: 0.0683\n",
      "not: 0.0611\n",
      "called: 0.0611\n",
      "any: 0.0605\n",
      "san: 0.0594\n",
      "the: 0.0587\n",
      "taxi: 0.0579\n",
      "was: 0.0529\n",
      "##re: 0.0529\n",
      ".: 0.0501\n",
      "##drive: 0.0433\n",
      ",: 0.0396\n",
      "vehicles: 0.0373\n",
      "the: 0.0330\n",
      "at: 0.0322\n",
      "in: 0.0311\n",
      "a: 0.0300\n",
      "hour: 0.0287\n",
      "and: 0.0271\n",
      "there: 0.0266\n",
      "less: 0.0237\n",
      "the: 0.0159\n",
      "an: 0.0140\n",
      "in: 0.0129\n",
      "had: 0.0128\n",
      "area: 0.0091\n",
      "station: 0.0088\n",
      "but: 0.0082\n",
      "the: 0.0070\n",
      "they: 0.0070\n",
      "we: 0.0065\n",
      "ride: 0.0051\n",
      "my: 0.0036\n",
      "an: 0.0007\n",
      "[CLS]: 0.0000\n",
      "[SEP]: 0.0000\n",
      "and: -0.0022\n",
      "have: -0.0024\n",
      "5: -0.0035\n",
      "to: -0.0050\n",
      "did: -0.0060\n",
      "in: -0.0139\n",
      "to: -0.0203\n",
      "wanted: -0.0275\n",
      "we: -0.0281\n",
      "our: -0.0285\n",
      "taxi: -0.0359\n",
      "that: -0.0366\n",
      ".: -0.0447\n",
      "we: -0.0452\n",
      "union: -0.0489\n",
      "event: -0.0501\n",
      ".: -0.0544\n",
      "diego: -0.0617\n",
      ",: -0.0635\n",
      "hotel: -0.0696\n",
      "message: -0.0705\n",
      "i: -0.0843\n",
      "again: -0.0888\n",
      "wife: -0.0910\n",
      "than: -0.1050\n",
      "my: -0.1544\n",
      "first: -0.3390\n"
     ]
    }
   ],
   "source": [
    "explain_sentence(\"My first experience with TaxiDrive was in San Diego. My wife and I had attended an event at the Union Station and wanted a ride back to our hotel. We called taxi, but the message was that they did not have any vehicles in the area, but we could call back in an hour to inquire again. We then downloaded the TaxiDrive app. and less than 5 minutes later an TaxiDrive was there.\", explainer)"
   ]
  }
 ],
 "metadata": {
  "kernelspec": {
   "display_name": "ml2025",
   "language": "python",
   "name": "python3"
  },
  "language_info": {
   "codemirror_mode": {
    "name": "ipython",
    "version": 3
   },
   "file_extension": ".py",
   "mimetype": "text/x-python",
   "name": "python",
   "nbconvert_exporter": "python",
   "pygments_lexer": "ipython3",
   "version": "3.12.9"
  }
 },
 "nbformat": 4,
 "nbformat_minor": 5
}
