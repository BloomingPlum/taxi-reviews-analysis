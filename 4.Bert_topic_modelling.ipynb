{
 "cells": [
  {
   "cell_type": "code",
   "execution_count": 69,
   "id": "ef02469a",
   "metadata": {},
   "outputs": [],
   "source": [
    "import pandas as pd\n",
    "import numpy as np\n",
    "from bertopic import BERTopic\n",
    "from sklearn.cluster import KMeans\n",
    "import nltk\n",
    "from nltk.corpus import stopwords\n",
    "from sklearn.feature_extraction.text import ENGLISH_STOP_WORDS\n",
    "from umap import UMAP\n",
    "import re\n",
    "import os\n",
    "from dotenv import load_dotenv\n",
    "import openai\n",
    "from openai import OpenAI"
   ]
  },
  {
   "cell_type": "code",
   "execution_count": 22,
   "id": "c8a5711d",
   "metadata": {},
   "outputs": [
    {
     "name": "stderr",
     "output_type": "stream",
     "text": [
      "[nltk_data] Downloading package stopwords to\n",
      "[nltk_data]     C:\\Users\\Galyna\\AppData\\Roaming\\nltk_data...\n",
      "[nltk_data]   Package stopwords is already up-to-date!\n"
     ]
    }
   ],
   "source": [
    "nltk.download(\"stopwords\")\n",
    "stop_words = set(stopwords.words(\"english\")).union(ENGLISH_STOP_WORDS)"
   ]
  },
  {
   "cell_type": "code",
   "execution_count": 5,
   "id": "48060b9e",
   "metadata": {},
   "outputs": [],
   "source": [
    "df = pd.read_csv('data/taxi_data_clean.csv')"
   ]
  },
  {
   "cell_type": "code",
   "execution_count": 27,
   "id": "56238ef6",
   "metadata": {},
   "outputs": [],
   "source": [
    "custom_stopwords = {'taxidrive', 'taxi', 'drive', 'taxiservice', 'will', 'driver'}\n",
    "stop_words = set(stopwords.words(\"english\")).union(ENGLISH_STOP_WORDS).union(custom_stopwords)"
   ]
  },
  {
   "cell_type": "code",
   "execution_count": 28,
   "id": "32398b61",
   "metadata": {},
   "outputs": [],
   "source": [
    "def preprocess(text):\n",
    "    text = re.sub(r\"[^\\w\\s]\", \"\", text.lower())  # remove punctuation, lowercase\n",
    "    tokens = text.split()\n",
    "    tokens = [word for word in tokens if word not in stop_words]\n",
    "    return \" \".join(tokens)"
   ]
  },
  {
   "cell_type": "code",
   "execution_count": 29,
   "id": "472e9f2f",
   "metadata": {},
   "outputs": [],
   "source": [
    "df[\"Clean_Reviews\"] = df[\"Reviews\"].apply(preprocess)"
   ]
  },
  {
   "cell_type": "code",
   "execution_count": 57,
   "id": "ac7234ad",
   "metadata": {},
   "outputs": [],
   "source": [
    "kmeans = KMeans(n_clusters=6)\n",
    "topic_model = BERTopic(hdbscan_model=kmeans)"
   ]
  },
  {
   "cell_type": "code",
   "execution_count": 61,
   "id": "5378d277",
   "metadata": {},
   "outputs": [],
   "source": [
    "topics, probs = topic_model.fit_transform(df['Clean_Reviews'])\n",
    "topic_info = topic_model.get_topic_info()"
   ]
  },
  {
   "cell_type": "code",
   "execution_count": 80,
   "id": "62ef9d70",
   "metadata": {},
   "outputs": [],
   "source": [
    "def generate_prompt_for_topic(topic_row):\n",
    "    topic_id = topic_row['Topic']\n",
    "    keywords = topic_row['Representation']\n",
    "    return f\"\"\"Give a short, clear topic name for a group of user reviews based on the following top keywords:\n",
    "    \n",
    "Top Keywords: {keywords}\n",
    "\n",
    "Make it sound natural, like a dashboard label. You may include 1 emoji if it adds clarity. Return only the topic name.\"\"\""
   ]
  },
  {
   "cell_type": "code",
   "execution_count": 70,
   "id": "fa58969c",
   "metadata": {},
   "outputs": [],
   "source": [
    "load_dotenv()\n",
    "client = OpenAI(api_key=os.getenv(\"OPENAI_API_KEY\"))"
   ]
  },
  {
   "cell_type": "code",
   "execution_count": 83,
   "id": "c6a7bd76",
   "metadata": {},
   "outputs": [],
   "source": [
    "def get_topic_name(prompt):\n",
    "    response = client.chat.completions.create(\n",
    "        model=\"gpt-4\",\n",
    "        messages=[\n",
    "            {\n",
    "                \"role\": \"system\",\n",
    "                \"content\": (\n",
    "                    \"You are a product analyst summarizing customer feedback topics for an internal dashboard. \"\n",
    "                    \"Generate short, clear, human-readable topic names. \"\n",
    "                    \"Use simple wording that reflects the complaint or experience. \"\n",
    "                    \"Optionally include a relevant emoji if appropriate (but only one).\"\n",
    "                )\n",
    "            },\n",
    "            {\n",
    "                \"role\": \"user\",\n",
    "                \"content\": prompt\n",
    "            }\n",
    "        ],\n",
    "        temperature=0.5,\n",
    "        max_tokens=25,\n",
    "    )\n",
    "    return response.choices[0].message.content.strip()"
   ]
  },
  {
   "cell_type": "code",
   "execution_count": 84,
   "id": "f3d1aaff",
   "metadata": {},
   "outputs": [],
   "source": [
    "# Generate new names\n",
    "topic_info['Topic_Name'] = topic_info.apply(\n",
    "    lambda row: get_topic_name(generate_prompt_for_topic(row)), axis=1\n",
    ")"
   ]
  },
  {
   "cell_type": "code",
   "execution_count": 96,
   "id": "b727c37d",
   "metadata": {},
   "outputs": [
    {
     "data": {
      "text/html": [
       "<div>\n",
       "<style scoped>\n",
       "    .dataframe tbody tr th:only-of-type {\n",
       "        vertical-align: middle;\n",
       "    }\n",
       "\n",
       "    .dataframe tbody tr th {\n",
       "        vertical-align: top;\n",
       "    }\n",
       "\n",
       "    .dataframe thead th {\n",
       "        text-align: right;\n",
       "    }\n",
       "</style>\n",
       "<table border=\"1\" class=\"dataframe\">\n",
       "  <thead>\n",
       "    <tr style=\"text-align: right;\">\n",
       "      <th></th>\n",
       "      <th>Topic</th>\n",
       "      <th>Mixed</th>\n",
       "      <th>Negative</th>\n",
       "      <th>Positive</th>\n",
       "      <th>Topic_Name</th>\n",
       "      <th>Review_Count</th>\n",
       "    </tr>\n",
       "  </thead>\n",
       "  <tbody>\n",
       "    <tr>\n",
       "      <th>0</th>\n",
       "      <td>0</td>\n",
       "      <td>0.022277</td>\n",
       "      <td>0.957921</td>\n",
       "      <td>0.019802</td>\n",
       "      <td>\"Complaints about Trip Cancellations and Unexpected Charges 🚖\"</td>\n",
       "      <td>404</td>\n",
       "    </tr>\n",
       "    <tr>\n",
       "      <th>1</th>\n",
       "      <td>1</td>\n",
       "      <td>0.049275</td>\n",
       "      <td>0.924638</td>\n",
       "      <td>0.026087</td>\n",
       "      <td>\"Customer Service &amp; Account Management Issues 📱\"</td>\n",
       "      <td>345</td>\n",
       "    </tr>\n",
       "    <tr>\n",
       "      <th>2</th>\n",
       "      <td>2</td>\n",
       "      <td>0.032738</td>\n",
       "      <td>0.898810</td>\n",
       "      <td>0.068452</td>\n",
       "      <td>\"Complaints about Ride Charges and Pricing 💰\"</td>\n",
       "      <td>336</td>\n",
       "    </tr>\n",
       "    <tr>\n",
       "      <th>3</th>\n",
       "      <td>3</td>\n",
       "      <td>0.042813</td>\n",
       "      <td>0.944954</td>\n",
       "      <td>0.012232</td>\n",
       "      <td>\"Driver Behavior and Car Experience 🚗\"</td>\n",
       "      <td>327</td>\n",
       "    </tr>\n",
       "    <tr>\n",
       "      <th>4</th>\n",
       "      <td>4</td>\n",
       "      <td>0.191223</td>\n",
       "      <td>0.291536</td>\n",
       "      <td>0.517241</td>\n",
       "      <td>\"Customer Experience with Drivers and Service Quality 🚖\"</td>\n",
       "      <td>319</td>\n",
       "    </tr>\n",
       "    <tr>\n",
       "      <th>5</th>\n",
       "      <td>5</td>\n",
       "      <td>0.038835</td>\n",
       "      <td>0.906149</td>\n",
       "      <td>0.055016</td>\n",
       "      <td>\"Gift Card Payment Issues 🎁\"</td>\n",
       "      <td>309</td>\n",
       "    </tr>\n",
       "  </tbody>\n",
       "</table>\n",
       "</div>"
      ],
      "text/plain": [
       "   Topic     Mixed  Negative  Positive  \\\n",
       "0      0  0.022277  0.957921  0.019802   \n",
       "1      1  0.049275  0.924638  0.026087   \n",
       "2      2  0.032738  0.898810  0.068452   \n",
       "3      3  0.042813  0.944954  0.012232   \n",
       "4      4  0.191223  0.291536  0.517241   \n",
       "5      5  0.038835  0.906149  0.055016   \n",
       "\n",
       "                                                       Topic_Name  \\\n",
       "0  \"Complaints about Trip Cancellations and Unexpected Charges 🚖\"   \n",
       "1                \"Customer Service & Account Management Issues 📱\"   \n",
       "2                   \"Complaints about Ride Charges and Pricing 💰\"   \n",
       "3                          \"Driver Behavior and Car Experience 🚗\"   \n",
       "4        \"Customer Experience with Drivers and Service Quality 🚖\"   \n",
       "5                                    \"Gift Card Payment Issues 🎁\"   \n",
       "\n",
       "   Review_Count  \n",
       "0           404  \n",
       "1           345  \n",
       "2           336  \n",
       "3           327  \n",
       "4           319  \n",
       "5           309  "
      ]
     },
     "execution_count": 96,
     "metadata": {},
     "output_type": "execute_result"
    }
   ],
   "source": [
    "review_counts = df['Topic'].value_counts().reset_index()\n",
    "review_counts.columns = ['Topic', 'Review_Count']\n",
    "\n",
    "merged_df = pd.merge(\n",
    "    topic_sentiment_counts_reset,  # <- replace ambiguous reference\n",
    "    topic_info[[\"Topic\", \"Topic_Name\"]],\n",
    "    on=\"Topic\",\n",
    "    how=\"left\"\n",
    ")\n",
    "\n",
    "# Then merge in review counts\n",
    "merged_df = pd.merge(merged_df, review_counts, on=\"Topic\", how=\"left\")\n",
    "merged_df"
   ]
  }
 ],
 "metadata": {
  "kernelspec": {
   "display_name": "ml2025",
   "language": "python",
   "name": "python3"
  },
  "language_info": {
   "codemirror_mode": {
    "name": "ipython",
    "version": 3
   },
   "file_extension": ".py",
   "mimetype": "text/x-python",
   "name": "python",
   "nbconvert_exporter": "python",
   "pygments_lexer": "ipython3",
   "version": "3.12.9"
  }
 },
 "nbformat": 4,
 "nbformat_minor": 5
}
